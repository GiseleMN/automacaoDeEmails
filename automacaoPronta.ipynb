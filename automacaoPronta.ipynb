{
 "cells": [
  {
   "attachments": {},
   "cell_type": "markdown",
   "metadata": {},
   "source": [
    "# Automacao de envio de emails com dados"
   ]
  },
  {
   "cell_type": "code",
   "execution_count": null,
   "metadata": {},
   "outputs": [],
   "source": [
    "import yfinance as yf\n",
    "import pyautogui\n",
    "import pyperclip\n",
    "\n",
    "ticker = input('Digite o código da ação')\n",
    "\n",
    "dados = yf.Ticker(ticker)\n",
    "tabela = dados.history(\"6mo\")\n",
    "fechamento = tabela['Close']\n",
    "\n",
    "fechamento.plot()\n",
    "maxima = round(fechamento.max(),2)\n",
    "minima = round(fechamento.min(),2)\n",
    "atual = round(fechamento[-1],2)\n",
    "\n",
    "print(f'Cotação máxima: R${maxima}')\n",
    "print(f'Cotação minima: R${minima}')\n",
    "print(f'Cotação atual: R${atual}')\n",
    "\n",
    "destinatario = \"digiteseu@email.com\"\n",
    "assunto = \"Digite o assunto do email\"\n",
    "\n",
    "mensagem = f\"\"\" \n",
    "(Digite a mensagem a ser transmitida)\n",
    "\"\"\"\n",
    "\n",
    "pyautogui.PAUSE = 2\n",
    "\n",
    "pyautogui.hotkey(\"command\",\"t\")\n",
    "pyperclip.copy(\"www.exemplo.com\")\n",
    "\n",
    "pyautogui.hotkey(\"command\",\"t\")\n",
    "pyautogui.press(\"enter\")\n",
    "\n",
    "pyautogui.click(x=2034,y=210)\n",
    "\n",
    "pyperclip.copy(destinatario)\n",
    "pyautogui.hotkey(\"command\",\"t\")\n",
    "pyautogui.press(\"tab\")\n",
    "\n",
    "pyperclip.copy(assunto)\n",
    "pyautogui.hotkey(\"command\",\"t\")\n",
    "pyautogui.press(\"tab\")\n",
    "\n",
    "\n",
    "pyperclip.copy(mensagem)\n",
    "pyautogui.hotkey(\"command\", \"t\")\n",
    "\n",
    "pyperclip.click(x=3107, y=975)\n",
    "pyautogui.hotkey(\"command\",\"f4\")\n",
    "\n",
    "print('Email enviado com sucesso!')\n",
    "\n",
    "\n",
    "print('Análise gerada com Sucesso!')"
   ]
  }
 ],
 "metadata": {
  "kernelspec": {
   "display_name": "Python 3",
   "language": "python",
   "name": "python3"
  },
  "language_info": {
   "name": "python",
   "version": "3.8.9 (default, Oct 26 2021, 07:25:54) \n[Clang 13.0.0 (clang-1300.0.29.30)]"
  },
  "orig_nbformat": 4,
  "vscode": {
   "interpreter": {
    "hash": "31f2aee4e71d21fbe5cf8b01ff0e069b9275f58929596ceb00d14d90e3e16cd6"
   }
  }
 },
 "nbformat": 4,
 "nbformat_minor": 2
}
